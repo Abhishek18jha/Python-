{
 "cells": [
  {
   "cell_type": "code",
   "execution_count": 1,
   "metadata": {},
   "outputs": [
    {
     "data": {
      "text/plain": [
       "{'m': 1, 'i': 4, 's': 4, 'p': 2}"
      ]
     },
     "execution_count": 1,
     "metadata": {},
     "output_type": "execute_result"
    }
   ],
   "source": [
    "# Counting Letters\n",
    "word ='mississippi'\n",
    "counter ={}\n",
    "for letter in word:\n",
    "    if letter not in counter:\n",
    "        counter[letter]=0\n",
    "    counter[letter]+=1\n",
    "counter"
   ]
  },
  {
   "cell_type": "code",
   "execution_count": 3,
   "metadata": {},
   "outputs": [
    {
     "data": {
      "text/plain": [
       "{'m': 1, 'i': 4, 's': 4, 'p': 2}"
      ]
     },
     "execution_count": 3,
     "metadata": {},
     "output_type": "execute_result"
    }
   ],
   "source": [
    "counter ={}\n",
    "for letter in word:\n",
    "    counter[letter]=counter.get(letter,0)+1\n",
    "counter"
   ]
  },
  {
   "cell_type": "code",
   "execution_count": 8,
   "metadata": {},
   "outputs": [
    {
     "name": "stdout",
     "output_type": "stream",
     "text": [
      "M 1\n",
      "i 4\n",
      "s 4\n",
      "p 2\n"
     ]
    }
   ],
   "source": [
    "from collections import Counter\n",
    "letters=Counter(list('Mississippi'))\n",
    "for letter in letters:\n",
    "    print(letter,letters[letter])"
   ]
  },
  {
   "cell_type": "code",
   "execution_count": 38,
   "metadata": {},
   "outputs": [],
   "source": [
    "a =['apple','apple bananan pineapple','pineapple']\n",
    "b =a[1].split(' ')\n",
    "for i in range(0,len(a)):\n",
    "   b.append(a[i].split(\" \"))"
   ]
  },
  {
   "cell_type": "code",
   "execution_count": 31,
   "metadata": {},
   "outputs": [],
   "source": [
    "def fun1():\n",
    "    res = [item.split(\" \") for item in a]\n",
    "    return Counter([item for l in res for item in l])"
   ]
  },
  {
   "cell_type": "code",
   "execution_count": 39,
   "metadata": {},
   "outputs": [
    {
     "data": {
      "text/plain": [
       "0    {'apple': 2, 'bananan': 1, 'pineapple': 2}\n",
       "dtype: object"
      ]
     },
     "execution_count": 39,
     "metadata": {},
     "output_type": "execute_result"
    }
   ],
   "source": [
    "import pandas as pd\n",
    "\n",
    "df =pd.DataFrame(a)\n",
    "df.apply(lambda x :Counter([item for l in [item.split(\" \") for item in a] for item in l]))"
   ]
  }
 ],
 "metadata": {
  "kernelspec": {
   "display_name": "Python 3",
   "language": "python",
   "name": "python3"
  },
  "language_info": {
   "codemirror_mode": {
    "name": "ipython",
    "version": 3
   },
   "file_extension": ".py",
   "mimetype": "text/x-python",
   "name": "python",
   "nbconvert_exporter": "python",
   "pygments_lexer": "ipython3",
   "version": "3.9.10"
  },
  "orig_nbformat": 4,
  "vscode": {
   "interpreter": {
    "hash": "bd5b1a4fb242234646a331ad21b667ff3059ad1da59f6cacb2f4d9621465329e"
   }
  }
 },
 "nbformat": 4,
 "nbformat_minor": 2
}
